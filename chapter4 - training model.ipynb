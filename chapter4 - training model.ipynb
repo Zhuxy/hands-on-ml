{
 "cells": [
  {
   "cell_type": "markdown",
   "metadata": {},
   "source": [
    "# 训练线性模型"
   ]
  },
  {
   "cell_type": "markdown",
   "metadata": {},
   "source": [
    "## 随机线性数据求解正规方程"
   ]
  },
  {
   "cell_type": "code",
   "execution_count": null,
   "metadata": {},
   "outputs": [],
   "source": [
    "import numpy as np\n",
    "\n",
    "X = 2 * np.random.rand(100, 1) # 生成100个随机数\n",
    "y= 4 + 3 * X + np.random.randn(100, 1) # y = 4 + 3*x + 满足高斯分布的一个噪声, 使得数据集不是完全线性的|"
   ]
  },
  {
   "cell_type": "code",
   "execution_count": null,
   "metadata": {},
   "outputs": [],
   "source": [
    "%matplotlib inline\n",
    "import matplotlib.pyplot as plt\n",
    "\n",
    "plt.plot(X, y, 'b.')\n",
    "plt.axis([0,2,0,15]) \n",
    "plt.show()"
   ]
  },
  {
   "cell_type": "code",
   "execution_count": null,
   "metadata": {},
   "outputs": [],
   "source": [
    "# 求解正规方程\n",
    "\n",
    "X_b = np.c_[np.ones((100, 1)), X] # X里存放的是n个X1, 还需要加上始终为1的X0\n",
    "theta_best = np.linalg.inv(X_b.T.dot(X_b)).dot(X_b.T).dot(y)\n",
    "theta_best"
   ]
  },
  {
   "cell_type": "code",
   "execution_count": null,
   "metadata": {},
   "outputs": [],
   "source": [
    "# 使用求解出来的值进行预测\n",
    "X_new = np.array([[0],[2]])\n",
    "X_new_b = np.c_[np.ones((2, 1)), X_new]\n",
    "y_predict = X_new_b.dot(theta_best)\n",
    "y_predict"
   ]
  },
  {
   "cell_type": "code",
   "execution_count": null,
   "metadata": {},
   "outputs": [],
   "source": [
    "plt.plot(X_new,y_predict,\"r\")\n",
    "plt.plot(X,y,\"b.\")\n",
    "plt.axis([0,2,0,15]) \n",
    "plt.show()"
   ]
  },
  {
   "cell_type": "markdown",
   "metadata": {},
   "source": [
    "## 多项式回归"
   ]
  },
  {
   "cell_type": "code",
   "execution_count": null,
   "metadata": {},
   "outputs": [],
   "source": [
    "# 简单二次方程生成非线性数据\n",
    "\n",
    "m = 100\n",
    "X = 6 * np.random.rand(m, 1) - 3\n",
    "y = 0.5 * X**2 + X + 2 + np.random.randn(m, 1)"
   ]
  },
  {
   "cell_type": "code",
   "execution_count": null,
   "metadata": {},
   "outputs": [],
   "source": [
    "%matplotlib inline\n",
    "import matplotlib.pyplot as plt\n",
    "\n",
    "plt.plot(X, y, 'b.')\n",
    "plt.show()"
   ]
  },
  {
   "cell_type": "code",
   "execution_count": null,
   "metadata": {},
   "outputs": [],
   "source": [
    "# 将特征的平方作为新特征对数据集进行转换\n",
    "\n",
    "from sklearn.preprocessing import PolynomialFeatures\n",
    "\n",
    "poly_features = PolynomialFeatures(degree=2, include_bias=False)\n",
    "X_poly = poly_features.fit_transform(X)\n",
    "X_poly[0]"
   ]
  },
  {
   "cell_type": "code",
   "execution_count": null,
   "metadata": {},
   "outputs": [],
   "source": [
    "# 在新的数据集上进行线性回归\n",
    "\n",
    "from sklearn.linear_model import LinearRegression\n",
    "lin_reg = LinearRegression()\n",
    "lin_reg.fit(X_poly, y)\n",
    "lin_reg.intercept_, lin_reg.coef_"
   ]
  },
  {
   "cell_type": "code",
   "execution_count": null,
   "metadata": {},
   "outputs": [],
   "source": [
    "X_new = np.linspace(-3, 3, 100).reshape(100, 1) # 在-3到3之间生成固定间隔的100个数\n",
    "X_new_poly = poly_features.fit_transform(X_new)\n",
    "y_pred = lin_reg.predict(X_new_poly)\n",
    "\n",
    "plt.plot(X, y, 'b.')\n",
    "plt.plot(X_new, y_pred, 'r-')\n",
    "plt.show()"
   ]
  },
  {
   "cell_type": "markdown",
   "metadata": {},
   "source": [
    "## 学习曲线"
   ]
  },
  {
   "cell_type": "code",
   "execution_count": null,
   "metadata": {},
   "outputs": [],
   "source": [
    "from sklearn.metrics import mean_squared_error \n",
    "from sklearn.model_selection import train_test_split \n",
    "\n",
    "def plot_learning_curves(model, X, y):     \n",
    "    X_train, X_val, y_train, y_val = train_test_split(X, y, test_size=0.2) # 分出20%的验证集\n",
    "    train_errors, val_errors = [], []\n",
    "    for m in range(1, len(X_train)):\n",
    "        model.fit(X_train[:m], y_train[:m]) # 前m个当做训练集\n",
    "        y_train_predict = model.predict(X_train[:m]) # \n",
    "        y_val_predict = model.predict(X_val)         \n",
    "        train_errors.append(mean_squared_error(y_train_predict, y_train[:m]))         \n",
    "        val_errors.append(mean_squared_error(y_val_predict, y_val))     \n",
    "    \n",
    "    plt.plot(np.sqrt(train_errors), \"r-+\", linewidth=2, label=\"train\")     \n",
    "    plt.plot(np.sqrt(val_errors), \"b-\", linewidth=3, label=\"val\")"
   ]
  },
  {
   "cell_type": "code",
   "execution_count": null,
   "metadata": {},
   "outputs": [],
   "source": [
    "# 线性回归的学习曲线\n",
    "lin_reg = LinearRegression()\n",
    "\n",
    "plot_learning_curves(lin_reg, X, y)\n"
   ]
  },
  {
   "cell_type": "code",
   "execution_count": null,
   "metadata": {},
   "outputs": [],
   "source": [
    "# 10阶多项式模型的学习曲线\n",
    "\n",
    "from sklearn.pipeline import Pipeline\n",
    "\n",
    "poly_regression = Pipeline((\n",
    "    (\"poly_features\", PolynomialFeatures(degree=10, include_bias=False)),\n",
    "    (\"sgd_reg\", LinearRegression())\n",
    "))\n",
    "    \n",
    "plot_learning_curves(poly_regression, X, y)"
   ]
  },
  {
   "cell_type": "markdown",
   "metadata": {},
   "source": [
    "## 决策边界"
   ]
  },
  {
   "cell_type": "code",
   "execution_count": null,
   "metadata": {},
   "outputs": [],
   "source": [
    "# 加载iris数据集\n",
    "\n",
    "from sklearn import datasets\n",
    "\n",
    "iris = datasets.load_iris()\n",
    "\n",
    "print(iris.keys())\n",
    "print(iris[\"DESCR\"])\n",
    "\n",
    "# 只根据petal width预测\n",
    "X = iris[\"data\"][:, 3:] # petal width是第四个属性, 只取[:, 3]的话shape是(m,)既向量, 取3:的话shape是(m, 1)矩阵形式\n",
    "y = (iris[\"target\"] == 2).astype(np.int)"
   ]
  },
  {
   "cell_type": "code",
   "execution_count": null,
   "metadata": {},
   "outputs": [],
   "source": [
    "# 训练回归模型\n",
    "\n",
    "from sklearn.linear_model import LogisticRegression\n",
    "\n",
    "log_reg = LogisticRegression()\n",
    "# LogisticRegression默认multi_class参数为ovr, 表示可以用来预测二分问题\n",
    "# 返回的预测概率为 [反例的概率, 正例的概率]\n",
    "\n",
    "log_reg.fit(X, y) # 这里没有分出测试集"
   ]
  },
  {
   "cell_type": "code",
   "execution_count": null,
   "metadata": {},
   "outputs": [],
   "source": [
    "# 查看模型输出的概率曲线\n",
    "X_new = np.linspace(0, 3, 1000).reshape(-1, 1) # 通过上面的数据集描述看到petal width的最大最小值在0到3之间\n",
    "# reshape(-1, 1), 其中1表示第二维长度为1, -1表示第一维的长度通过数据的长度自动计算\n",
    "\n",
    "y_proba = log_reg.predict_proba(X_new) # 预测概率值\n",
    "\n",
    "plt.plot(X_new, y_proba[:, 0], 'r-')\n",
    "plt.plot(X_new, y_proba[:, 1], 'g--')\n",
    "plt.show()"
   ]
  },
  {
   "cell_type": "markdown",
   "metadata": {},
   "source": [
    "## Softmax回归"
   ]
  },
  {
   "cell_type": "code",
   "execution_count": 26,
   "metadata": {},
   "outputs": [
    {
     "data": {
      "text/plain": [
       "LogisticRegression(C=10, class_weight=None, dual=False, fit_intercept=True,\n",
       "                   intercept_scaling=1, l1_ratio=None, max_iter=100,\n",
       "                   multi_class='multinomial', n_jobs=None, penalty='l2',\n",
       "                   random_state=None, solver='lbfgs', tol=0.0001, verbose=0,\n",
       "                   warm_start=False)"
      ]
     },
     "execution_count": 26,
     "metadata": {},
     "output_type": "execute_result"
    }
   ],
   "source": [
    "X = iris[\"data\"][:, (2, 3)] # 取petal lenth和width为特征值\n",
    "y = iris[\"target\"] # 多分类(单输出)\n",
    "\n",
    "softmax_reg = LogisticRegression(multi_class=\"multinomial\", solver=\"lbfgs\", C=10)\n",
    "softmax_reg.fit(X, y)"
   ]
  },
  {
   "cell_type": "code",
   "execution_count": 27,
   "metadata": {},
   "outputs": [
    {
     "name": "stdout",
     "output_type": "stream",
     "text": [
      "[2]\n",
      "[[6.38014896e-07 5.74929995e-02 9.42506362e-01]]\n"
     ]
    }
   ],
   "source": [
    "print(softmax_reg.predict([[5, 2]]))\n",
    "print(softmax_reg.predict_proba([[5, 2]]))"
   ]
  },
  {
   "cell_type": "markdown",
   "metadata": {},
   "source": [
    "## 习题"
   ]
  },
  {
   "cell_type": "markdown",
   "metadata": {},
   "source": []
  }
 ],
 "metadata": {
  "kernelspec": {
   "display_name": "Python 3",
   "language": "python",
   "name": "python3"
  },
  "language_info": {
   "codemirror_mode": {
    "name": "ipython",
    "version": 3
   },
   "file_extension": ".py",
   "mimetype": "text/x-python",
   "name": "python",
   "nbconvert_exporter": "python",
   "pygments_lexer": "ipython3",
   "version": "3.7.3"
  }
 },
 "nbformat": 4,
 "nbformat_minor": 4
}
